{
  "cells": [
    {
      "cell_type": "code",
      "execution_count": null,
      "metadata": {
        "id": "Jxk97eTXfqQV",
        "outputId": "b810904a-8562-4721-ac99-264feb730286"
      },
      "outputs": [
        {
          "name": "stdout",
          "output_type": "stream",
          "text": [
            "Requirement already satisfied: selenium in c:\\users\\lenov\\anaconda3\\lib\\site-packages (4.16.0)\n",
            "Requirement already satisfied: certifi>=2021.10.8 in c:\\users\\lenov\\anaconda3\\lib\\site-packages (from selenium) (2022.9.14)\n",
            "Requirement already satisfied: urllib3[socks]<3,>=1.26 in c:\\users\\lenov\\anaconda3\\lib\\site-packages (from selenium) (1.26.11)\n",
            "Requirement already satisfied: trio-websocket~=0.9 in c:\\users\\lenov\\anaconda3\\lib\\site-packages (from selenium) (0.11.1)\n",
            "Requirement already satisfied: trio~=0.17 in c:\\users\\lenov\\anaconda3\\lib\\site-packages (from selenium) (0.23.2)\n",
            "Requirement already satisfied: cffi>=1.14 in c:\\users\\lenov\\anaconda3\\lib\\site-packages (from trio~=0.17->selenium) (1.15.1)\n",
            "Requirement already satisfied: attrs>=20.1.0 in c:\\users\\lenov\\anaconda3\\lib\\site-packages (from trio~=0.17->selenium) (21.4.0)\n",
            "Requirement already satisfied: idna in c:\\users\\lenov\\anaconda3\\lib\\site-packages (from trio~=0.17->selenium) (3.3)\n",
            "Requirement already satisfied: exceptiongroup in c:\\users\\lenov\\anaconda3\\lib\\site-packages (from trio~=0.17->selenium) (1.2.0)\n",
            "Requirement already satisfied: sniffio>=1.3.0 in c:\\users\\lenov\\anaconda3\\lib\\site-packages (from trio~=0.17->selenium) (1.3.0)\n",
            "Requirement already satisfied: outcome in c:\\users\\lenov\\anaconda3\\lib\\site-packages (from trio~=0.17->selenium) (1.3.0.post0)\n",
            "Requirement already satisfied: sortedcontainers in c:\\users\\lenov\\anaconda3\\lib\\site-packages (from trio~=0.17->selenium) (2.4.0)\n",
            "Requirement already satisfied: wsproto>=0.14 in c:\\users\\lenov\\anaconda3\\lib\\site-packages (from trio-websocket~=0.9->selenium) (1.2.0)\n",
            "Requirement already satisfied: PySocks!=1.5.7,<2.0,>=1.5.6 in c:\\users\\lenov\\anaconda3\\lib\\site-packages (from urllib3[socks]<3,>=1.26->selenium) (1.7.1)\n",
            "Requirement already satisfied: pycparser in c:\\users\\lenov\\anaconda3\\lib\\site-packages (from cffi>=1.14->trio~=0.17->selenium) (2.21)\n",
            "Requirement already satisfied: h11<1,>=0.9.0 in c:\\users\\lenov\\anaconda3\\lib\\site-packages (from wsproto>=0.14->trio-websocket~=0.9->selenium) (0.14.0)\n",
            "Note: you may need to restart the kernel to use updated packages.\n"
          ]
        }
      ],
      "source": [
        "pip install selenium"
      ]
    },
    {
      "cell_type": "code",
      "execution_count": null,
      "metadata": {
        "id": "hCOAf2iRfqQX"
      },
      "outputs": [],
      "source": [
        "from selenium.webdriver.common.by import By\n",
        "from selenium.webdriver.support.ui import Select"
      ]
    },
    {
      "cell_type": "code",
      "execution_count": null,
      "metadata": {
        "id": "VASAiY-sfqQX"
      },
      "outputs": [],
      "source": [
        "from selenium import webdriver\n",
        "\n",
        "\n",
        "driver = webdriver.Chrome()\n",
        "\n",
        "\n",
        "driver.get(\"https://agilgestion.com.ar/\")\n",
        "\n",
        "login_button = driver.find_element(By.ID, \"login-button\")\n",
        "login_button.click()\n",
        "\n",
        "\n",
        "element = driver.find_element(By.ID, \"user\")\n",
        "element.send_keys(\"****\")\n",
        "element = driver.find_element(By.NAME, \"password\")\n",
        "element.send_keys(\"****\")\n",
        "element.submit()\n",
        "\n",
        "elements_with_nav_link_class = driver.find_elements(By.CLASS_NAME, 'nav-link')\n",
        "\n",
        "\n",
        "informes_link = next(element for element in elements_with_nav_link_class if \"Informes\" in element.text)\n",
        "\n",
        "informes_link.click()\n",
        "\n",
        "ventas_button = driver.find_element(By.XPATH, '//button[@class=\"dropdown-item dropdown-toggle\" and @type=\"submit\" and @data-toggle=\"dropdown\" and text()=\"Compras\"]')\n",
        "ventas_button.click()\n",
        "\n",
        "detalles_items_link = driver.find_element(By.XPATH, '//a[@class=\"dropdown-item\" and text()=\"Items por Centro de Costos\"]')\n",
        "detalles_items_link.click()\n",
        "\n",
        "fecha_input = driver.find_element(By.ID, 'filtros_desde_fecha')\n",
        "\n",
        "fecha_input.clear()\n",
        "\n",
        "fecha_input.send_keys('01/01/2023')\n",
        "\n",
        "fecha_input = driver.find_element(By.ID, 'filtros_hasta_fecha')\n",
        "\n",
        "fecha_input.clear()\n",
        "\n",
        "fecha_input.send_keys('20/12/2023')\n",
        "\n",
        "select_element = driver.find_element(By.ID, \"filtros_incluye_sin_especificar\")\n",
        "\n",
        "select = Select(select_element)\n",
        "\n",
        "select.select_by_value(\"true\")\n",
        "\n",
        "\n",
        "generar_button = driver.find_element(By.ID, 'informe_generar')\n",
        "generar_button.click()\n",
        "\n",
        "\n",
        "descargar_excel_span = driver.find_element(By.XPATH, '//span[text()=\"Descargar Excel\"]')\n",
        "descargar_excel_span.click()"
      ]
    },
    {
      "cell_type": "code",
      "execution_count": null,
      "metadata": {
        "id": "CHSyZHzZfqQX"
      },
      "outputs": [],
      "source": [
        "pip install openpyxl"
      ]
    },
    {
      "cell_type": "code",
      "execution_count": null,
      "metadata": {
        "id": "YF_1MAp7fqQX"
      },
      "outputs": [],
      "source": [
        "import pandas as pd\n",
        "\n",
        "\n",
        "file_path = r\"C:\\Users\\lenov\\Music\\PYTHON SELENIUM\\items_detalles_por_centro_costo.xls\"\n",
        "df = pd.read_excel(file_path)\n",
        "df.to_excel(file_path, index=False, engine='openpyxl')"
      ]
    },
    {
      "cell_type": "code",
      "execution_count": null,
      "metadata": {
        "id": "IbOP9ilbfqQX",
        "outputId": "c93d5b4a-2162-4c81-f018-1867d76f48b4"
      },
      "outputs": [
        {
          "name": "stdout",
          "output_type": "stream",
          "text": [
            "Requirement already satisfied: google-auth in c:\\users\\lenov\\anaconda3\\lib\\site-packages (2.25.2)\n",
            "Requirement already satisfied: pyasn1-modules>=0.2.1 in c:\\users\\lenov\\anaconda3\\lib\\site-packages (from google-auth) (0.2.8)\n",
            "Requirement already satisfied: rsa<5,>=3.1.4 in c:\\users\\lenov\\anaconda3\\lib\\site-packages (from google-auth) (4.9)\n",
            "Requirement already satisfied: cachetools<6.0,>=2.0.0 in c:\\users\\lenov\\anaconda3\\lib\\site-packages (from google-auth) (5.3.2)\n",
            "Requirement already satisfied: pyasn1<0.5.0,>=0.4.6 in c:\\users\\lenov\\anaconda3\\lib\\site-packages (from pyasn1-modules>=0.2.1->google-auth) (0.4.8)\n",
            "Note: you may need to restart the kernel to use updated packages.\n"
          ]
        }
      ],
      "source": [
        "pip install google-auth"
      ]
    },
    {
      "cell_type": "code",
      "execution_count": null,
      "metadata": {
        "id": "XRvxU5aAfqQX",
        "outputId": "d303ad36-7afd-49bc-b42e-159716377013"
      },
      "outputs": [
        {
          "name": "stdout",
          "output_type": "stream",
          "text": [
            "Requirement already satisfied: google-api-python-client in c:\\users\\lenov\\anaconda3\\lib\\site-packages (2.111.0)\n",
            "Requirement already satisfied: google-auth<3.0.0.dev0,>=1.19.0 in c:\\users\\lenov\\anaconda3\\lib\\site-packages (from google-api-python-client) (2.25.2)\n",
            "Requirement already satisfied: httplib2<1.dev0,>=0.15.0 in c:\\users\\lenov\\anaconda3\\lib\\site-packages (from google-api-python-client) (0.22.0)\n",
            "Requirement already satisfied: google-api-core!=2.0.*,!=2.1.*,!=2.2.*,!=2.3.0,<3.0.0.dev0,>=1.31.5 in c:\\users\\lenov\\anaconda3\\lib\\site-packages (from google-api-python-client) (2.15.0)\n",
            "Requirement already satisfied: uritemplate<5,>=3.0.1 in c:\\users\\lenov\\anaconda3\\lib\\site-packages (from google-api-python-client) (4.1.1)\n",
            "Requirement already satisfied: google-auth-httplib2>=0.1.0 in c:\\users\\lenov\\anaconda3\\lib\\site-packages (from google-api-python-client) (0.2.0)\n",
            "Requirement already satisfied: protobuf!=3.20.0,!=3.20.1,!=4.21.0,!=4.21.1,!=4.21.2,!=4.21.3,!=4.21.4,!=4.21.5,<5.0.0.dev0,>=3.19.5 in c:\\users\\lenov\\anaconda3\\lib\\site-packages (from google-api-core!=2.0.*,!=2.1.*,!=2.2.*,!=2.3.0,<3.0.0.dev0,>=1.31.5->google-api-python-client) (4.25.1)\n",
            "Requirement already satisfied: requests<3.0.0.dev0,>=2.18.0 in c:\\users\\lenov\\anaconda3\\lib\\site-packages (from google-api-core!=2.0.*,!=2.1.*,!=2.2.*,!=2.3.0,<3.0.0.dev0,>=1.31.5->google-api-python-client) (2.28.1)\n",
            "Requirement already satisfied: googleapis-common-protos<2.0.dev0,>=1.56.2 in c:\\users\\lenov\\anaconda3\\lib\\site-packages (from google-api-core!=2.0.*,!=2.1.*,!=2.2.*,!=2.3.0,<3.0.0.dev0,>=1.31.5->google-api-python-client) (1.62.0)\n",
            "Requirement already satisfied: cachetools<6.0,>=2.0.0 in c:\\users\\lenov\\anaconda3\\lib\\site-packages (from google-auth<3.0.0.dev0,>=1.19.0->google-api-python-client) (5.3.2)\n",
            "Requirement already satisfied: pyasn1-modules>=0.2.1 in c:\\users\\lenov\\anaconda3\\lib\\site-packages (from google-auth<3.0.0.dev0,>=1.19.0->google-api-python-client) (0.2.8)\n",
            "Requirement already satisfied: rsa<5,>=3.1.4 in c:\\users\\lenov\\anaconda3\\lib\\site-packages (from google-auth<3.0.0.dev0,>=1.19.0->google-api-python-client) (4.9)\n",
            "Requirement already satisfied: pyparsing!=3.0.0,!=3.0.1,!=3.0.2,!=3.0.3,<4,>=2.4.2 in c:\\users\\lenov\\anaconda3\\lib\\site-packages (from httplib2<1.dev0,>=0.15.0->google-api-python-client) (3.0.9)\n",
            "Requirement already satisfied: pyasn1<0.5.0,>=0.4.6 in c:\\users\\lenov\\anaconda3\\lib\\site-packages (from pyasn1-modules>=0.2.1->google-auth<3.0.0.dev0,>=1.19.0->google-api-python-client) (0.4.8)\n",
            "Requirement already satisfied: certifi>=2017.4.17 in c:\\users\\lenov\\anaconda3\\lib\\site-packages (from requests<3.0.0.dev0,>=2.18.0->google-api-core!=2.0.*,!=2.1.*,!=2.2.*,!=2.3.0,<3.0.0.dev0,>=1.31.5->google-api-python-client) (2022.9.14)\n",
            "Requirement already satisfied: charset-normalizer<3,>=2 in c:\\users\\lenov\\anaconda3\\lib\\site-packages (from requests<3.0.0.dev0,>=2.18.0->google-api-core!=2.0.*,!=2.1.*,!=2.2.*,!=2.3.0,<3.0.0.dev0,>=1.31.5->google-api-python-client) (2.0.4)\n",
            "Requirement already satisfied: urllib3<1.27,>=1.21.1 in c:\\users\\lenov\\anaconda3\\lib\\site-packages (from requests<3.0.0.dev0,>=2.18.0->google-api-core!=2.0.*,!=2.1.*,!=2.2.*,!=2.3.0,<3.0.0.dev0,>=1.31.5->google-api-python-client) (1.26.11)\n",
            "Requirement already satisfied: idna<4,>=2.5 in c:\\users\\lenov\\anaconda3\\lib\\site-packages (from requests<3.0.0.dev0,>=2.18.0->google-api-core!=2.0.*,!=2.1.*,!=2.2.*,!=2.3.0,<3.0.0.dev0,>=1.31.5->google-api-python-client) (3.3)\n",
            "Note: you may need to restart the kernel to use updated packages.\n"
          ]
        }
      ],
      "source": [
        "pip install google-api-python-client\n"
      ]
    },
    {
      "cell_type": "code",
      "execution_count": null,
      "metadata": {
        "id": "Qm90nHu2fqQY"
      },
      "outputs": [],
      "source": [
        "from googleapiclient.discovery import build\n",
        "from google.auth.transport.requests import Request\n",
        "from google_auth_oauthlib.flow import InstalledAppFlow\n"
      ]
    },
    {
      "cell_type": "code",
      "execution_count": null,
      "metadata": {
        "id": "wPppdbX2fqQY"
      },
      "outputs": [],
      "source": [
        "import pickle\n",
        "import os\n",
        "from google_auth_oauthlib.flow import Flow, InstalledAppFlow\n",
        "from googleapiclient.discovery import build\n",
        "from googleapiclient.http import MediaFileUpload, MediaIoBaseDownload\n",
        "from google.auth.transport.requests import Request\n",
        "import datetime\n",
        "\n",
        "\n",
        "def Create_Service(client_secret_file, api_name, api_version, *scopes):\n",
        "    print(client_secret_file, api_name, api_version, scopes, sep='-')\n",
        "    CLIENT_SECRET_FILE = client_secret_file\n",
        "    API_SERVICE_NAME = api_name\n",
        "    API_VERSION = api_version\n",
        "    SCOPES = [scope for scope in scopes[0]]\n",
        "    print(SCOPES)\n",
        "\n",
        "    cred = None\n",
        "\n",
        "    pickle_file = f'token_{API_SERVICE_NAME}_{API_VERSION}.pickle'\n",
        "    # print(pickle_file)\n",
        "\n",
        "    if os.path.exists(pickle_file):\n",
        "        with open(pickle_file, 'rb') as token:\n",
        "            cred = pickle.load(token)\n",
        "\n",
        "    if not cred or not cred.valid:\n",
        "        if cred and cred.expired and cred.refresh_token:\n",
        "            cred.refresh(Request())\n",
        "        else:\n",
        "            flow = InstalledAppFlow.from_client_secrets_file(CLIENT_SECRET_FILE, SCOPES)\n",
        "            cred = flow.run_local_server()\n",
        "\n",
        "        with open(pickle_file, 'wb') as token:\n",
        "            pickle.dump(cred, token)\n",
        "\n",
        "    try:\n",
        "        service = build(API_SERVICE_NAME, API_VERSION, credentials=cred)\n",
        "        print(API_SERVICE_NAME, 'service created successfully')\n",
        "        return service\n",
        "    except Exception as e:\n",
        "        print('Unable to connect.')\n",
        "        print(e)\n",
        "        return None\n",
        "\n",
        "def convert_to_RFC_datetime(year=1900, month=1, day=1, hour=0, minute=0):\n",
        "    dt = datetime.datetime(year, month, day, hour, minute, 0).isoformat() + 'Z'\n",
        "    return dt"
      ]
    },
    {
      "cell_type": "code",
      "execution_count": null,
      "metadata": {
        "id": "Pzx5niCefqQY",
        "outputId": "84e2db06-5807-4ca8-95e2-35ea20fad906"
      },
      "outputs": [
        {
          "name": "stdout",
          "output_type": "stream",
          "text": [
            "credentials.json-drive-v3-(['https://www.googleapis.com/auth/drive'],)\n",
            "['https://www.googleapis.com/auth/drive']\n",
            "drive service created successfully\n",
            "File items_detalles_por_centro_costo uploaded successfully.\n"
          ]
        }
      ],
      "source": [
        "from googleapiclient.http import MediaFileUpload\n",
        "\n",
        "\n",
        "CLIENT_SECRET_FILE = \"credentials.json\"\n",
        "API_NAME = \"drive\"\n",
        "API_VERSION = \"v3\"\n",
        "SCOPES = [\"https://www.googleapis.com/auth/drive\"]\n",
        "\n",
        "service = Create_Service(CLIENT_SECRET_FILE, API_NAME, API_VERSION, SCOPES)\n",
        "\n",
        "\n",
        "def upload_file(service, file_path, file_name, folder_id=None):\n",
        "    media = MediaFileUpload(file_path, resumable=True)\n",
        "    body = {\n",
        "        'name': file_name,\n",
        "        'mimeType': 'application/octet-stream'\n",
        "    }\n",
        "    if folder_id:\n",
        "        body['parents'] = [folder_id]\n",
        "\n",
        "    request = service.files().create(body=body, media_body=media)\n",
        "    response = None\n",
        "    while response is None:\n",
        "        status, response = request.next_chunk()\n",
        "        if status:\n",
        "            print(f'Uploaded {int(status.progress() * 100)}%')\n",
        "    print(f'File {file_name} uploaded successfully.')\n",
        "\n",
        "\n",
        "file_path = r\"C:\\Users\\lenov\\Music\\PYTHON SELENIUM\\items_detalles_por_centro_costo.xls\"\n",
        "\n",
        "file_name = \"items_detalles_por_centro_costo\"\n",
        "\n",
        "folder_id = \"1PbbmY3UqhIM6HSauHUy1fR5-qPNjbcSq\"\n",
        "\n",
        "upload_file(service, file_path, file_name, folder_id)\n",
        "\n",
        "\n"
      ]
    }
  ],
  "metadata": {
    "kernelspec": {
      "display_name": "base",
      "language": "python",
      "name": "python3"
    },
    "language_info": {
      "codemirror_mode": {
        "name": "ipython",
        "version": 3
      },
      "file_extension": ".py",
      "mimetype": "text/x-python",
      "name": "python",
      "nbconvert_exporter": "python",
      "pygments_lexer": "ipython3",
      "version": "3.9.13"
    },
    "colab": {
      "provenance": []
    }
  },
  "nbformat": 4,
  "nbformat_minor": 0
}
